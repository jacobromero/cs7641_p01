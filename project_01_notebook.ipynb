{
 "cells": [
  {
   "cell_type": "markdown",
   "metadata": {},
   "source": [
    "TODO:\n",
    " 1. Add more exploratory data analysis (and its own section)\n",
    " 2. Figure out a better way to merge the columns\n",
    " 3. Use cross validation in training\n",
    " 4. Hyper parameter tuning for all of the classifiers"
   ]
  },
  {
   "cell_type": "markdown",
   "metadata": {},
   "source": [
    "ideas\n",
    "- bin education (highscool or below, bachelors, masters, doctorate, associate)\n",
    "- is fnlwgt useful? -- read more on this one\n",
    "- look into what '?' is for workclass, do we want to drop this attribute?\n",
    "\t- same issue for native country\n",
    "- possibly bin martial status as well -- as this may not be useful to have so many classes\n",
    "- see how useful capital loss/gains are -- this may indicate the person is active in the stock market and therefore may have more disposable income\n",
    "- hours per week may also be a strong indicator of if they make over 50k a year\n",
    "- what is relationship in the context of the dataset?\n",
    "- can we further bin the occupation category as well?"
   ]
  },
  {
   "cell_type": "code",
   "execution_count": 1,
   "metadata": {},
   "outputs": [],
   "source": [
    "import pandas as pd\n",
    "import numpy as np\n",
    "import seaborn as sns\n",
    "import matplotlib.pyplot as plt"
   ]
  },
  {
   "cell_type": "code",
   "execution_count": 2,
   "metadata": {},
   "outputs": [],
   "source": [
    "import wandb"
   ]
  },
  {
   "cell_type": "markdown",
   "metadata": {},
   "source": [
    "# Data preprocessing"
   ]
  },
  {
   "cell_type": "code",
   "execution_count": 3,
   "metadata": {},
   "outputs": [],
   "source": [
    "data = pd.read_csv('data/adult.data')\n",
    "test = pd.read_csv('data/adult.test')"
   ]
  },
  {
   "cell_type": "code",
   "execution_count": 4,
   "metadata": {},
   "outputs": [
    {
     "data": {
      "text/html": [
       "<div>\n",
       "<style scoped>\n",
       "    .dataframe tbody tr th:only-of-type {\n",
       "        vertical-align: middle;\n",
       "    }\n",
       "\n",
       "    .dataframe tbody tr th {\n",
       "        vertical-align: top;\n",
       "    }\n",
       "\n",
       "    .dataframe thead th {\n",
       "        text-align: right;\n",
       "    }\n",
       "</style>\n",
       "<table border=\"1\" class=\"dataframe\">\n",
       "  <thead>\n",
       "    <tr style=\"text-align: right;\">\n",
       "      <th></th>\n",
       "      <th>age</th>\n",
       "      <th>workclass</th>\n",
       "      <th>fnlwgt</th>\n",
       "      <th>education</th>\n",
       "      <th>education-num</th>\n",
       "      <th>marital-status</th>\n",
       "      <th>occupation</th>\n",
       "      <th>relationship</th>\n",
       "      <th>race</th>\n",
       "      <th>sex</th>\n",
       "      <th>capital-gain</th>\n",
       "      <th>capital-loss</th>\n",
       "      <th>hours-per-week</th>\n",
       "      <th>native-country</th>\n",
       "      <th>salary-class</th>\n",
       "    </tr>\n",
       "  </thead>\n",
       "  <tbody>\n",
       "    <tr>\n",
       "      <th>0</th>\n",
       "      <td>39</td>\n",
       "      <td>State-gov</td>\n",
       "      <td>77516</td>\n",
       "      <td>Bachelors</td>\n",
       "      <td>13</td>\n",
       "      <td>Never-married</td>\n",
       "      <td>Adm-clerical</td>\n",
       "      <td>Not-in-family</td>\n",
       "      <td>White</td>\n",
       "      <td>Male</td>\n",
       "      <td>2174</td>\n",
       "      <td>0</td>\n",
       "      <td>40</td>\n",
       "      <td>United-States</td>\n",
       "      <td>&lt;=50K</td>\n",
       "    </tr>\n",
       "    <tr>\n",
       "      <th>1</th>\n",
       "      <td>50</td>\n",
       "      <td>Self-emp-not-inc</td>\n",
       "      <td>83311</td>\n",
       "      <td>Bachelors</td>\n",
       "      <td>13</td>\n",
       "      <td>Married-civ-spouse</td>\n",
       "      <td>Exec-managerial</td>\n",
       "      <td>Husband</td>\n",
       "      <td>White</td>\n",
       "      <td>Male</td>\n",
       "      <td>0</td>\n",
       "      <td>0</td>\n",
       "      <td>13</td>\n",
       "      <td>United-States</td>\n",
       "      <td>&lt;=50K</td>\n",
       "    </tr>\n",
       "    <tr>\n",
       "      <th>2</th>\n",
       "      <td>38</td>\n",
       "      <td>Private</td>\n",
       "      <td>215646</td>\n",
       "      <td>HS-grad</td>\n",
       "      <td>9</td>\n",
       "      <td>Divorced</td>\n",
       "      <td>Handlers-cleaners</td>\n",
       "      <td>Not-in-family</td>\n",
       "      <td>White</td>\n",
       "      <td>Male</td>\n",
       "      <td>0</td>\n",
       "      <td>0</td>\n",
       "      <td>40</td>\n",
       "      <td>United-States</td>\n",
       "      <td>&lt;=50K</td>\n",
       "    </tr>\n",
       "    <tr>\n",
       "      <th>3</th>\n",
       "      <td>53</td>\n",
       "      <td>Private</td>\n",
       "      <td>234721</td>\n",
       "      <td>11th</td>\n",
       "      <td>7</td>\n",
       "      <td>Married-civ-spouse</td>\n",
       "      <td>Handlers-cleaners</td>\n",
       "      <td>Husband</td>\n",
       "      <td>Black</td>\n",
       "      <td>Male</td>\n",
       "      <td>0</td>\n",
       "      <td>0</td>\n",
       "      <td>40</td>\n",
       "      <td>United-States</td>\n",
       "      <td>&lt;=50K</td>\n",
       "    </tr>\n",
       "    <tr>\n",
       "      <th>4</th>\n",
       "      <td>28</td>\n",
       "      <td>Private</td>\n",
       "      <td>338409</td>\n",
       "      <td>Bachelors</td>\n",
       "      <td>13</td>\n",
       "      <td>Married-civ-spouse</td>\n",
       "      <td>Prof-specialty</td>\n",
       "      <td>Wife</td>\n",
       "      <td>Black</td>\n",
       "      <td>Female</td>\n",
       "      <td>0</td>\n",
       "      <td>0</td>\n",
       "      <td>40</td>\n",
       "      <td>Cuba</td>\n",
       "      <td>&lt;=50K</td>\n",
       "    </tr>\n",
       "  </tbody>\n",
       "</table>\n",
       "</div>"
      ],
      "text/plain": [
       "   age          workclass  fnlwgt   education  education-num  \\\n",
       "0   39          State-gov   77516   Bachelors             13   \n",
       "1   50   Self-emp-not-inc   83311   Bachelors             13   \n",
       "2   38            Private  215646     HS-grad              9   \n",
       "3   53            Private  234721        11th              7   \n",
       "4   28            Private  338409   Bachelors             13   \n",
       "\n",
       "        marital-status          occupation    relationship    race      sex  \\\n",
       "0        Never-married        Adm-clerical   Not-in-family   White     Male   \n",
       "1   Married-civ-spouse     Exec-managerial         Husband   White     Male   \n",
       "2             Divorced   Handlers-cleaners   Not-in-family   White     Male   \n",
       "3   Married-civ-spouse   Handlers-cleaners         Husband   Black     Male   \n",
       "4   Married-civ-spouse      Prof-specialty            Wife   Black   Female   \n",
       "\n",
       "   capital-gain  capital-loss  hours-per-week  native-country salary-class  \n",
       "0          2174             0              40   United-States        <=50K  \n",
       "1             0             0              13   United-States        <=50K  \n",
       "2             0             0              40   United-States        <=50K  \n",
       "3             0             0              40   United-States        <=50K  \n",
       "4             0             0              40            Cuba        <=50K  "
      ]
     },
     "execution_count": 4,
     "metadata": {},
     "output_type": "execute_result"
    }
   ],
   "source": [
    "data.head()"
   ]
  },
  {
   "cell_type": "code",
   "execution_count": 5,
   "metadata": {
    "scrolled": true
   },
   "outputs": [
    {
     "data": {
      "text/html": [
       "<div>\n",
       "<style scoped>\n",
       "    .dataframe tbody tr th:only-of-type {\n",
       "        vertical-align: middle;\n",
       "    }\n",
       "\n",
       "    .dataframe tbody tr th {\n",
       "        vertical-align: top;\n",
       "    }\n",
       "\n",
       "    .dataframe thead th {\n",
       "        text-align: right;\n",
       "    }\n",
       "</style>\n",
       "<table border=\"1\" class=\"dataframe\">\n",
       "  <thead>\n",
       "    <tr style=\"text-align: right;\">\n",
       "      <th></th>\n",
       "      <th>age</th>\n",
       "      <th>workclass</th>\n",
       "      <th>fnlwgt</th>\n",
       "      <th>education</th>\n",
       "      <th>education-num</th>\n",
       "      <th>marital-status</th>\n",
       "      <th>occupation</th>\n",
       "      <th>relationship</th>\n",
       "      <th>race</th>\n",
       "      <th>sex</th>\n",
       "      <th>capital-gain</th>\n",
       "      <th>capital-loss</th>\n",
       "      <th>hours-per-week</th>\n",
       "      <th>native-country</th>\n",
       "      <th>salary-class</th>\n",
       "    </tr>\n",
       "  </thead>\n",
       "  <tbody>\n",
       "    <tr>\n",
       "      <th>0</th>\n",
       "      <td>25</td>\n",
       "      <td>Private</td>\n",
       "      <td>226802</td>\n",
       "      <td>11th</td>\n",
       "      <td>7</td>\n",
       "      <td>Never-married</td>\n",
       "      <td>Machine-op-inspct</td>\n",
       "      <td>Own-child</td>\n",
       "      <td>Black</td>\n",
       "      <td>Male</td>\n",
       "      <td>0</td>\n",
       "      <td>0</td>\n",
       "      <td>40</td>\n",
       "      <td>United-States</td>\n",
       "      <td>&lt;=50K</td>\n",
       "    </tr>\n",
       "    <tr>\n",
       "      <th>1</th>\n",
       "      <td>38</td>\n",
       "      <td>Private</td>\n",
       "      <td>89814</td>\n",
       "      <td>HS-grad</td>\n",
       "      <td>9</td>\n",
       "      <td>Married-civ-spouse</td>\n",
       "      <td>Farming-fishing</td>\n",
       "      <td>Husband</td>\n",
       "      <td>White</td>\n",
       "      <td>Male</td>\n",
       "      <td>0</td>\n",
       "      <td>0</td>\n",
       "      <td>50</td>\n",
       "      <td>United-States</td>\n",
       "      <td>&lt;=50K</td>\n",
       "    </tr>\n",
       "    <tr>\n",
       "      <th>2</th>\n",
       "      <td>28</td>\n",
       "      <td>Local-gov</td>\n",
       "      <td>336951</td>\n",
       "      <td>Assoc-acdm</td>\n",
       "      <td>12</td>\n",
       "      <td>Married-civ-spouse</td>\n",
       "      <td>Protective-serv</td>\n",
       "      <td>Husband</td>\n",
       "      <td>White</td>\n",
       "      <td>Male</td>\n",
       "      <td>0</td>\n",
       "      <td>0</td>\n",
       "      <td>40</td>\n",
       "      <td>United-States</td>\n",
       "      <td>&gt;50K</td>\n",
       "    </tr>\n",
       "    <tr>\n",
       "      <th>3</th>\n",
       "      <td>44</td>\n",
       "      <td>Private</td>\n",
       "      <td>160323</td>\n",
       "      <td>Some-college</td>\n",
       "      <td>10</td>\n",
       "      <td>Married-civ-spouse</td>\n",
       "      <td>Machine-op-inspct</td>\n",
       "      <td>Husband</td>\n",
       "      <td>Black</td>\n",
       "      <td>Male</td>\n",
       "      <td>7688</td>\n",
       "      <td>0</td>\n",
       "      <td>40</td>\n",
       "      <td>United-States</td>\n",
       "      <td>&gt;50K</td>\n",
       "    </tr>\n",
       "    <tr>\n",
       "      <th>4</th>\n",
       "      <td>18</td>\n",
       "      <td>?</td>\n",
       "      <td>103497</td>\n",
       "      <td>Some-college</td>\n",
       "      <td>10</td>\n",
       "      <td>Never-married</td>\n",
       "      <td>?</td>\n",
       "      <td>Own-child</td>\n",
       "      <td>White</td>\n",
       "      <td>Female</td>\n",
       "      <td>0</td>\n",
       "      <td>0</td>\n",
       "      <td>30</td>\n",
       "      <td>United-States</td>\n",
       "      <td>&lt;=50K</td>\n",
       "    </tr>\n",
       "  </tbody>\n",
       "</table>\n",
       "</div>"
      ],
      "text/plain": [
       "   age   workclass  fnlwgt      education  education-num       marital-status  \\\n",
       "0   25     Private  226802           11th              7        Never-married   \n",
       "1   38     Private   89814        HS-grad              9   Married-civ-spouse   \n",
       "2   28   Local-gov  336951     Assoc-acdm             12   Married-civ-spouse   \n",
       "3   44     Private  160323   Some-college             10   Married-civ-spouse   \n",
       "4   18           ?  103497   Some-college             10        Never-married   \n",
       "\n",
       "           occupation relationship    race      sex  capital-gain  \\\n",
       "0   Machine-op-inspct    Own-child   Black     Male             0   \n",
       "1     Farming-fishing      Husband   White     Male             0   \n",
       "2     Protective-serv      Husband   White     Male             0   \n",
       "3   Machine-op-inspct      Husband   Black     Male          7688   \n",
       "4                   ?    Own-child   White   Female             0   \n",
       "\n",
       "   capital-loss  hours-per-week  native-country salary-class  \n",
       "0             0              40   United-States        <=50K  \n",
       "1             0              50   United-States        <=50K  \n",
       "2             0              40   United-States         >50K  \n",
       "3             0              40   United-States         >50K  \n",
       "4             0              30   United-States        <=50K  "
      ]
     },
     "execution_count": 5,
     "metadata": {},
     "output_type": "execute_result"
    }
   ],
   "source": [
    "test.head()"
   ]
  },
  {
   "cell_type": "code",
   "execution_count": 6,
   "metadata": {},
   "outputs": [],
   "source": [
    "# get discrete class columns from data, and one hot encode\n",
    "discrete_classes = ['workclass',\n",
    "                    'education', \n",
    "                    'sex',\n",
    "                    'marital-status',\n",
    "                    'occupation',\n",
    "                    'relationship', \n",
    "                    'native-country',\n",
    "                    'race', \n",
    "                    'salary-class']\n",
    "encoded_train = pd.get_dummies(data[discrete_classes])\n",
    "encoded_test = pd.get_dummies(test[discrete_classes])\n",
    "\n",
    "# drop old non-encoded columns from data, and add encoded data\n",
    "data.drop(columns=discrete_classes, inplace=True)\n",
    "data = pd.concat([data, encoded_train], axis=1)\n",
    "test.drop(columns=discrete_classes, inplace=True)\n",
    "test = pd.concat([test, encoded_test], axis=1)\n",
    "\n",
    "# drop extra output column as 'salary <= 50k' -> 0, and 'salary >50k' -> 1\n",
    "data.drop(columns=['salary-class_ <=50K'], inplace=True)\n",
    "data.rename(columns={'salary-class_ >50K': 'salary-class'}, inplace=True)\n",
    "test.drop(columns=['salary-class_ <=50K'], inplace=True)\n",
    "test.rename(columns={'salary-class_ >50K': 'salary-class'}, inplace=True)"
   ]
  },
  {
   "cell_type": "code",
   "execution_count": 7,
   "metadata": {},
   "outputs": [],
   "source": [
    "#TODO: figure out what to do in order to merge the columns better\n",
    "x_keys = set(data.keys()) - set(['salary-class']) & set(test.keys()) - set(['salary-class'])\n",
    "# x_test_keys = set(test.keys()) - set(['salary-class'])\n",
    "y_keys = set(['salary-class'])\n",
    "\n",
    "X_train = data[x_keys]\n",
    "X_test = test[x_keys]\n",
    "\n",
    "Y_train = data[y_keys]\n",
    "Y_test = test[y_keys]"
   ]
  },
  {
   "cell_type": "code",
   "execution_count": 139,
   "metadata": {},
   "outputs": [
    {
     "data": {
      "text/plain": [
       "array([ 1628.,  3256.,  8140., 16280., 24421., 32561.])"
      ]
     },
     "execution_count": 139,
     "metadata": {},
     "output_type": "execute_result"
    }
   ],
   "source": [
    "# X_train.shape[0]\n",
    "np.rint(np.array([0.05, 0.1, 0.25, 0.5, 0.75, 1.0]) * X_train.shape[0])"
   ]
  },
  {
   "cell_type": "code",
   "execution_count": 9,
   "metadata": {},
   "outputs": [],
   "source": [
    "# plt.figure(figsize=(10,10))\n",
    "# eds = [col for col in data if col.startswith('education_')]\n",
    "# race = [col for col in data if col.startswith('race_')]\n",
    "# country = [col for col in data if col.startswith('native-country_')]\n",
    "# occupation = [col for col in data if col.startswith('occupation_')]\n",
    "# relation = [col for col in data if col.startswith('relationship_')]\n",
    "# corrs = data[['salary-class'] + relation].corr()\n",
    "# sns.heatmap(corrs)\n",
    "# print(corrs)"
   ]
  },
  {
   "cell_type": "code",
   "execution_count": 10,
   "metadata": {},
   "outputs": [],
   "source": [
    "# wandb.init(project='cs7641_p01', entity='bromero')"
   ]
  },
  {
   "cell_type": "markdown",
   "metadata": {},
   "source": [
    "# Experiments"
   ]
  },
  {
   "cell_type": "code",
   "execution_count": 141,
   "metadata": {},
   "outputs": [],
   "source": [
    "from sklearn.tree import DecisionTreeClassifier\n",
    "from sklearn.svm import SVC\n",
    "from sklearn.neighbors import KNeighborsClassifier\n",
    "from sklearn.neural_network import MLPClassifier\n",
    "import xgboost as xgb\n",
    "from wandb.xgboost import wandb_callback\n",
    "from sklearn.model_selection import validation_curve\n",
    "from sklearn.model_selection import learning_curve"
   ]
  },
  {
   "cell_type": "code",
   "execution_count": 151,
   "metadata": {},
   "outputs": [],
   "source": [
    "import numpy as np\n",
    "import matplotlib.pyplot as plt\n",
    "from sklearn.naive_bayes import GaussianNB\n",
    "from sklearn.svm import SVC\n",
    "from sklearn.datasets import load_digits\n",
    "from sklearn.model_selection import learning_curve\n",
    "from sklearn.model_selection import ShuffleSplit\n",
    "\n",
    "\n",
    "def plot_learning_curve(estimator, title, X, y, axes=None, ylim=None, cv=None,\n",
    "                        n_jobs=None, train_sizes=np.linspace(.1, 1.0, 5)):\n",
    "    if axes is None:\n",
    "        _, axes = plt.subplots(1, 3, figsize=(20, 5))\n",
    "\n",
    "    axes[0].set_title(title)\n",
    "    if ylim is not None:\n",
    "        axes[0].set_ylim(*ylim)\n",
    "    axes[0].set_xlabel(\"Training examples\")\n",
    "    axes[0].set_ylabel(\"Score\")\n",
    "\n",
    "    train_sizes, train_scores, test_scores, fit_times, _ = \\\n",
    "        learning_curve(estimator, X, y, cv=cv, n_jobs=n_jobs,\n",
    "                       train_sizes=train_sizes,\n",
    "                       return_times=True)\n",
    "    train_scores_mean = np.mean(train_scores, axis=1)\n",
    "    train_scores_std = np.std(train_scores, axis=1)\n",
    "    test_scores_mean = np.mean(test_scores, axis=1)\n",
    "    test_scores_std = np.std(test_scores, axis=1)\n",
    "    fit_times_mean = np.mean(fit_times, axis=1)\n",
    "    fit_times_std = np.std(fit_times, axis=1)\n",
    "\n",
    "    # Plot learning curve\n",
    "    axes[0].grid()\n",
    "    axes[0].fill_between(train_sizes, train_scores_mean - train_scores_std,\n",
    "                         train_scores_mean + train_scores_std, alpha=0.1,\n",
    "                         color=\"r\")\n",
    "    axes[0].fill_between(train_sizes, test_scores_mean - test_scores_std,\n",
    "                         test_scores_mean + test_scores_std, alpha=0.1,\n",
    "                         color=\"g\")\n",
    "    axes[0].plot(train_sizes, train_scores_mean, 'o-', color=\"r\",\n",
    "                 label=\"Training score\")\n",
    "    axes[0].plot(train_sizes, test_scores_mean, 'o-', color=\"g\",\n",
    "                 label=\"Cross-validation score\")\n",
    "    axes[0].legend(loc=\"best\")\n",
    "\n",
    "    # Plot n_samples vs fit_times\n",
    "    axes[1].grid()\n",
    "    axes[1].plot(train_sizes, fit_times_mean, 'o-')\n",
    "    axes[1].fill_between(train_sizes, fit_times_mean - fit_times_std,\n",
    "                         fit_times_mean + fit_times_std, alpha=0.1)\n",
    "    axes[1].set_xlabel(\"Training examples\")\n",
    "    axes[1].set_ylabel(\"fit_times\")\n",
    "    axes[1].set_title(\"Scalability of the model\")\n",
    "\n",
    "    # Plot fit_time vs score\n",
    "    axes[2].grid()\n",
    "    axes[2].plot(fit_times_mean, test_scores_mean, 'o-')\n",
    "    axes[2].fill_between(fit_times_mean, test_scores_mean - test_scores_std,\n",
    "                         test_scores_mean + test_scores_std, alpha=0.1)\n",
    "    axes[2].set_xlabel(\"fit_times\")\n",
    "    axes[2].set_ylabel(\"Score\")\n",
    "    axes[2].set_title(\"Performance of the model\")\n",
    "\n",
    "    return plt"
   ]
  },
  {
   "cell_type": "markdown",
   "metadata": {},
   "source": [
    "## Decision Tree classifier"
   ]
  },
  {
   "cell_type": "code",
   "execution_count": 154,
   "metadata": {},
   "outputs": [
    {
     "data": {
      "text/plain": [
       "DecisionTreeClassifier(max_depth=10, random_state=42)"
      ]
     },
     "execution_count": 154,
     "metadata": {},
     "output_type": "execute_result"
    }
   ],
   "source": [
    "dt_classifier = DecisionTreeClassifier(max_depth = 10, criterion='gini', splitter='best', random_state=42)\n",
    "dt_classifier.fit(X_train, Y_train)\n",
    "# dt_classifier.score(X_test, Y_test)\n",
    "# wandb.sklearn.plot_learning_curve(dt_classifier, X_train, Y_train)"
   ]
  },
  {
   "cell_type": "code",
   "execution_count": 153,
   "metadata": {},
   "outputs": [],
   "source": [
    "# dt_classifier.score(X_test, Y_test)\n",
    "# y_pred = dt_classifier.predict(X_test)\n",
    "# y_probas = dt_classifier.predict_proba(X_test)\n",
    "# [0]\n",
    "\n",
    "# shows how the model behaves as you add more data\n",
    "# train_sizes, train_scores, valid_scores = learning_curve(DecisionTreeClassifier(max_depth = 10, criterion='gini', splitter='best', random_state=42), X_train, Y_train, train_sizes=np.linspace(.1, 1.0, 5))"
   ]
  },
  {
   "cell_type": "code",
   "execution_count": 14,
   "metadata": {},
   "outputs": [],
   "source": [
    "# wandb.sklearn.plot_classifier(dt_classifier, X_train, X_test, Y_train, Y_test, y_pred, y_probas, [0, 1], model_name='Decision Tree', feature_names=X_train.keys())"
   ]
  },
  {
   "cell_type": "markdown",
   "metadata": {},
   "source": [
    "## Support Vector Machine classifier"
   ]
  },
  {
   "cell_type": "code",
   "execution_count": 128,
   "metadata": {},
   "outputs": [
    {
     "data": {
      "text/plain": [
       "0.790369141944598"
      ]
     },
     "execution_count": 128,
     "metadata": {},
     "output_type": "execute_result"
    }
   ],
   "source": [
    "svc = SVC(probability=True, C=0.5, degree=3, kernel='rbf')\n",
    "svc.fit(X_train, Y_train['salary-class'])\n",
    "svc.score(X_test, Y_test)\n",
    "# wandb.sklearn.plot_learning_curve(svc, X_train,  Y_train['salary-class'])"
   ]
  },
  {
   "cell_type": "code",
   "execution_count": 16,
   "metadata": {},
   "outputs": [
    {
     "data": {
      "text/plain": [
       "0.7986610159081138"
      ]
     },
     "execution_count": 16,
     "metadata": {},
     "output_type": "execute_result"
    }
   ],
   "source": [
    "svc.score(X_test, Y_test)\n",
    "# y_pred = svc.predict(X_test)\n",
    "# y_probas = svc.predict_proba(X_test)"
   ]
  },
  {
   "cell_type": "code",
   "execution_count": 17,
   "metadata": {},
   "outputs": [],
   "source": [
    "# wandb.sklearn.plot_classifier(svc, X_train, X_test, Y_train['salary-class'], Y_test['salary-class'], y_pred, y_probas, [0, 1], model_name='SVC', feature_names=X_train.keys())"
   ]
  },
  {
   "cell_type": "markdown",
   "metadata": {},
   "source": [
    "## K Nearest Neighbors classifier"
   ]
  },
  {
   "cell_type": "code",
   "execution_count": 55,
   "metadata": {},
   "outputs": [
    {
     "data": {
      "text/plain": [
       "0.8027148209569437"
      ]
     },
     "execution_count": 55,
     "metadata": {},
     "output_type": "execute_result"
    }
   ],
   "source": [
    "knn_classifier = KNeighborsClassifier(n_neighbors=25)\n",
    "knn_classifier.fit(X_train, Y_train['salary-class'])\n",
    "knn_classifier.score(X_test, Y_test)\n",
    "# wandb.sklearn.plot_learning_curve(knn_classifier, X_train, Y_train['salary-class'])"
   ]
  },
  {
   "cell_type": "code",
   "execution_count": 19,
   "metadata": {},
   "outputs": [
    {
     "data": {
      "text/plain": [
       "0.7767950371598796"
      ]
     },
     "execution_count": 19,
     "metadata": {},
     "output_type": "execute_result"
    }
   ],
   "source": [
    "knn_classifier.score(X_test, Y_test)\n",
    "# y_pred = knn_classifier.predict(X_test)\n",
    "# y_probas = knn_classifier.predict_proba(X_test)"
   ]
  },
  {
   "cell_type": "code",
   "execution_count": 20,
   "metadata": {},
   "outputs": [],
   "source": [
    "# wandb.sklearn.plot_classifier(knn_classifier, X_train, X_test, Y_train['salary-class'], Y_test['salary-class'], y_pred, y_probas, [0, 1], model_name='KNN', feature_names=None)"
   ]
  },
  {
   "cell_type": "markdown",
   "metadata": {},
   "source": [
    "## Neural Network classifier"
   ]
  },
  {
   "cell_type": "code",
   "execution_count": 90,
   "metadata": {},
   "outputs": [
    {
     "data": {
      "text/plain": [
       "0.8211412075425343"
      ]
     },
     "execution_count": 90,
     "metadata": {},
     "output_type": "execute_result"
    }
   ],
   "source": [
    "nn_classifier = MLPClassifier(hidden_layer_sizes=(10), activation='relu', solver='adam', alpha=0.0001, random_state=1)\n",
    "nn_classifier.fit(X_train, Y_train['salary-class'])\n",
    "nn_classifier.score(X_test, Y_test)\n",
    "# wandb.sklearn.plot_learning_curve(nn_classifier, X_train, Y_train['salary-class'])"
   ]
  },
  {
   "cell_type": "code",
   "execution_count": 76,
   "metadata": {},
   "outputs": [
    {
     "data": {
      "text/plain": [
       "0.8211412075425343"
      ]
     },
     "execution_count": 76,
     "metadata": {},
     "output_type": "execute_result"
    }
   ],
   "source": [
    "nn_classifier.score(X_test, Y_test)\n",
    "# y_pred = nn_classifier.predict(X_test)\n",
    "# y_probas = nn_classifier.predict_proba(X_test)"
   ]
  },
  {
   "cell_type": "code",
   "execution_count": 176,
   "metadata": {},
   "outputs": [
    {
     "data": {
      "text/plain": [
       "array([ 1.        ,  3.11111111,  5.22222222,  7.33333333,  9.44444444,\n",
       "       11.55555556, 13.66666667, 15.77777778, 17.88888889, 20.        ])"
      ]
     },
     "execution_count": 176,
     "metadata": {},
     "output_type": "execute_result"
    }
   ],
   "source": [
    "np.linspace(1, 20, 20)"
   ]
  },
  {
   "cell_type": "code",
   "execution_count": 186,
   "metadata": {},
   "outputs": [
    {
     "name": "stderr",
     "output_type": "stream",
     "text": [
      "c:\\users\\jacob\\appdata\\local\\programs\\python\\python39\\lib\\site-packages\\sklearn\\utils\\validation.py:70: FutureWarning: Pass param_name=max_depth, param_range=[ 1.  2.  3.  4.  5.  6.  7.  8.  9. 10. 11. 12. 13. 14. 15. 16. 17. 18.\n",
      " 19. 20.] as keyword args. From version 1.0 (renaming of 0.25) passing these as positional arguments will result in an error\n",
      "  warnings.warn(f\"Pass {args_msg} as keyword args. From version \"\n"
     ]
    },
    {
     "data": {
      "image/png": "[encoded data removed]",
      "text/plain": [
       "<Figure size 720x720 with 1 Axes>"
      ]
     },
     "metadata": {
      "needs_background": "light"
     },
     "output_type": "display_data"
    }
   ],
   "source": [
    "# wandb.sklearn.plot_classifier(nn_classifier, X_train, X_test, Y_train['salary-class'], Y_test['salary-class'], y_pred, y_probas, [0, 1], model_name='Neural Network', feature_names=None)\n",
    "estimator = DecisionTreeClassifier(max_depth = 10, criterion='gini', splitter='best', random_state=42)\n",
    "param_range = np.linspace(1, 20, 20)\n",
    "\n",
    "train_scores, test_scores = validation_curve(estimator, X_train, Y_train, \"max_depth\", param_range, cv=20, n_jobs=8)\n",
    "\n",
    "plt.figure(figsize=(10, 10))\n",
    "plt.xlabel(\"Max Depth\")\n",
    "plt.ylabel(\"Score\")\n",
    "train_scores_mean = np.mean(train_scores, axis=1)\n",
    "train_scores_std = np.std(train_scores, axis=1)\n",
    "test_scores_mean = np.mean(test_scores, axis=1)\n",
    "test_scores_std = np.std(test_scores, axis=1)\n",
    "lw = 2\n",
    "plt.semilogx(param_range, train_scores_mean, label=\"Training score\",\n",
    "             color=\"darkorange\", lw=lw)\n",
    "plt.fill_between(param_range, train_scores_mean - train_scores_std,\n",
    "                 train_scores_mean + train_scores_std, alpha=0.2,\n",
    "                 color=\"darkorange\", lw=lw)\n",
    "plt.semilogx(param_range, test_scores_mean, label=\"Cross-validation score\",\n",
    "             color=\"navy\", lw=lw)\n",
    "plt.fill_between(param_range, test_scores_mean - test_scores_std,\n",
    "                 test_scores_mean + test_scores_std, alpha=0.2,\n",
    "                 color=\"navy\", lw=lw)\n",
    "plt.legend(loc=\"best\")\n",
    "plt.show()\n"
   ]
  },
  {
   "cell_type": "code",
   "execution_count": 198,
   "metadata": {},
   "outputs": [
    {
     "data": {
      "text/plain": [
       "<module 'matplotlib.pyplot' from 'c:\\\\users\\\\jacob\\\\appdata\\\\local\\\\programs\\\\python\\\\python39\\\\lib\\\\site-packages\\\\matplotlib\\\\pyplot.py'>"
      ]
     },
     "execution_count": 198,
     "metadata": {},
     "output_type": "execute_result"
    },
    {
     "data": {
      "image/png": "[encoded data removed]",
      "text/plain": [
       "<Figure size 720x1080 with 3 Axes>"
      ]
     },
     "metadata": {
      "needs_background": "light"
     },
     "output_type": "display_data"
    }
   ],
   "source": [
    "fig, axes = plt.subplots(3, 1, figsize=(10, 15))\n",
    "cv = ShuffleSplit(n_splits=10, test_size=0.2, random_state=0)\n",
    "\n",
    "# estimator = DecisionTreeClassifier(max_depth = 10, criterion='gini', splitter='best', random_state=42)\n",
    "estimator = xgb.XGBClassifier(n_estimators=50, max_depth=5, random_state=42)\n",
    "plot_learning_curve(estimator, \"Decision Tree\", X_train, Y_train, axes=axes[:], ylim=(0.7, 1.01),\n",
    "                    cv=cv, n_jobs=8)\n",
    "\n",
    "# estimator = MLPClassifier(hidden_layer_sizes=(10), activation='relu', solver='adam', alpha=0.0001, random_state=1)\n",
    "# plot_learning_curve(estimator, \"Neural Network\", X_train, Y_train, axes=axes[:, 1],\n",
    "#                     cv=cv, n_jobs=4)\n",
    "\n",
    "# estimator = KNeighborsClassifier(n_neighbors=25)\n",
    "# plot_learning_curve(estimator, \"KNN Classifier\", X_train, Y_train, axes=axes[:, 1],\n",
    "#                     cv=cv, n_jobs=8)"
   ]
  },
  {
   "cell_type": "markdown",
   "metadata": {},
   "source": [
    "## Boosted Decision Trees classifier"
   ]
  },
  {
   "cell_type": "code",
   "execution_count": 126,
   "metadata": {},
   "outputs": [
    {
     "name": "stderr",
     "output_type": "stream",
     "text": [
      "c:\\users\\jacob\\appdata\\local\\programs\\python\\python39\\lib\\site-packages\\xgboost\\sklearn.py:1146: UserWarning: The use of label encoder in XGBClassifier is deprecated and will be removed in a future release. To remove this warning, do the following: 1) Pass option use_label_encoder=False when constructing XGBClassifier object; and 2) Encode your labels (y) as integers starting with 0, i.e. 0, 1, 2, ..., [num_class - 1].\n",
      "  warnings.warn(label_encoder_deprecation_msg, UserWarning)\n"
     ]
    },
    {
     "name": "stdout",
     "output_type": "stream",
     "text": [
      "[01:27:01] WARNING: C:/Users/Administrator/workspace/xgboost-win64_release_1.4.0/src/learner.cc:1095: Starting in XGBoost 1.3.0, the default evaluation metric used with the objective 'binary:logistic' was changed from 'error' to 'logloss'. Explicitly set eval_metric if you'd like to restore the old behavior.\n"
     ]
    },
    {
     "data": {
      "text/plain": [
       "0.8751919415269332"
      ]
     },
     "execution_count": 126,
     "metadata": {},
     "output_type": "execute_result"
    }
   ],
   "source": [
    "clf = xgb.XGBClassifier(n_estimators=50, max_depth=5, random_state=42)\n",
    "clf.fit(X_train, Y_train['salary-class'])#, callbacks=[wandb_callback()])\n",
    "clf.score(X_test, Y_test)"
   ]
  },
  {
   "cell_type": "code",
   "execution_count": 164,
   "metadata": {},
   "outputs": [
    {
     "ename": "SyntaxError",
     "evalue": "unmatched ')' (Temp/ipykernel_9512/2655598576.py, line 2)",
     "output_type": "error",
     "traceback": [
      "\u001b[1;36m  File \u001b[1;32m\"C:\\Users\\Jacob\\AppData\\Local\\Temp/ipykernel_9512/2655598576.py\"\u001b[1;36m, line \u001b[1;32m2\u001b[0m\n\u001b[1;33m    np.linspace(.1, 1.0, 5))\u001b[0m\n\u001b[1;37m                           ^\u001b[0m\n\u001b[1;31mSyntaxError\u001b[0m\u001b[1;31m:\u001b[0m unmatched ')'\n"
     ]
    }
   ],
   "source": [
    "# clf.score(X_test, Y_test)\n",
    "np.linspace(.1, 1.0, 5)"
   ]
  },
  {
   "cell_type": "markdown",
   "metadata": {},
   "source": [
    "# Dataset 2"
   ]
  },
  {
   "cell_type": "code",
   "execution_count": null,
   "metadata": {},
   "outputs": [],
   "source": [
    "data2 = pd.read_csv('data/UCI_Credit_Card.csv')\n",
    "target_column = ['default.payment.next.month']\n",
    "set(data2.columns)"
   ]
  },
  {
   "cell_type": "code",
   "execution_count": null,
   "metadata": {},
   "outputs": [],
   "source": [
    "data2.loc[(data2.SEX == 1), 'SEX'] = 'male'\n",
    "data2.loc[(data2.SEX == 2), 'SEX'] = 'female'\n",
    "\n",
    "data2.drop(index=data2.index[data2['EDUCATION'] == 0], inplace=True)\n",
    "data2.loc[(data2.EDUCATION == 1), 'EDUCATION'] = 'graduate school'\n",
    "data2.loc[(data2.EDUCATION == 2), 'EDUCATION'] = 'university'\n",
    "data2.loc[(data2.EDUCATION == 3), 'EDUCATION'] = 'high school'\n",
    "data2.loc[(data2.EDUCATION == 4), 'EDUCATION'] = 'others'\n",
    "data2.loc[(data2.EDUCATION == 5), 'EDUCATION'] = 'unknown'\n",
    "data2.loc[(data2.EDUCATION == 6), 'EDUCATION'] = 'unknown'\n",
    "\n",
    "data2.drop(index=data2.index[data2['MARRIAGE'] == 0], inplace=True)\n",
    "data2.loc[(data2.MARRIAGE == 1), 'MARRIAGE'] = 'married'\n",
    "data2.loc[(data2.MARRIAGE == 1), 'MARRIAGE'] = 'married'\n",
    "data2.loc[(data2.MARRIAGE == 2), 'MARRIAGE'] = 'single'\n",
    "data2.loc[(data2.MARRIAGE == 3), 'MARRIAGE'] = 'others'\n",
    "\n",
    "data2.drop(columns=['ID'], inplace=True)\n",
    "\n",
    "discerete_columns = [\n",
    "    'SEX',\n",
    "    'EDUCATION',\n",
    "    'MARRIAGE'\n",
    "]\n",
    "encoded_train2 = pd.get_dummies(data2[discerete_columns])\n",
    "\n",
    "# drop old non-encoded columns from data, and add encoded data\n",
    "data2.drop(columns=discerete_columns, inplace=True)\n",
    "data2 = pd.concat([data2, encoded_train2], axis=1)\n",
    "\n",
    "# Worse performance, when trying to use feature engineering\n",
    "for i in range(1, 7):\n",
    "    data2[f'PAY_RATIO{i}'] = (data2[f'PAY_AMT1']/data2[f'BILL_AMT1'])\n",
    "data2[data2.filter(regex=\"PAY_RATIO\").columns] = data2.filter(regex=\"PAY_RATIO\").fillna(0)\n",
    "data2.replace([np.inf, -np.inf], 0.0, inplace=True)\n",
    "data2.drop(columns=data2.filter(regex=\"([BILL|PAY]_AMT.*\\d)\").columns, inplace=True)\n",
    "\n",
    "# Drop columns which are causing accuracy to drop\n",
    "data2.drop(columns=data2.filter(regex=\"(SEX_)\").columns, inplace=True)\n",
    "data2.drop(columns=data2.filter(regex=\"(MARRIAGE_)\").columns, inplace=True)\n",
    "data2.drop(columns=data2.filter(regex=\"(LIMIT_BAL)\").columns, inplace=True)\n",
    "data2.drop(columns=['AGE'], inplace=True)\n",
    "\n",
    "set(data2.columns)"
   ]
  },
  {
   "cell_type": "code",
   "execution_count": null,
   "metadata": {
    "scrolled": true
   },
   "outputs": [],
   "source": [
    "x_keys2 = set(data2.keys()) - set(target_column) & set(data2.keys()) - set(target_column)\n",
    "y_keys2 = set(target_column)\n",
    "\n",
    "first_split = data2.sample(frac=0.6,random_state=200)\n",
    "second_split = data2.drop(first_split.index)\n",
    "\n",
    "X_train2 = first_split[x_keys2]\n",
    "Y_train2 = first_split[y_keys2]\n",
    "\n",
    "X_test2 = second_split[x_keys2]\n",
    "Y_test2 = second_split[y_keys2]"
   ]
  },
  {
   "cell_type": "code",
   "execution_count": null,
   "metadata": {},
   "outputs": [],
   "source": [
    "# X_train2.describe()"
   ]
  },
  {
   "cell_type": "code",
   "execution_count": null,
   "metadata": {},
   "outputs": [],
   "source": [
    "data2.filter(regex=\"([BILL|PAY]_AMT.*\\d)\").columns"
   ]
  },
  {
   "cell_type": "code",
   "execution_count": null,
   "metadata": {},
   "outputs": [],
   "source": [
    "# data2"
   ]
  },
  {
   "cell_type": "markdown",
   "metadata": {},
   "source": [
    "## Decision Tree classifier 2"
   ]
  },
  {
   "cell_type": "code",
   "execution_count": null,
   "metadata": {},
   "outputs": [],
   "source": [
    "dt_classifier2 = DecisionTreeClassifier(max_depth = 5, criterion='gini', splitter='best', random_state=42)\n",
    "dt_classifier2.fit(X_train2, Y_train2)\n",
    "# wandb.sklearn.plot_learning_curve(dt_classifier2, X_train, Y_train)\n",
    "\n",
    "dt_classifier2.score(X_test2, Y_test2)\n",
    "# y_pred = dt_classifier2.predict(X_test)\n",
    "# y_probas = dt_classifier2.predict_proba(X_test)"
   ]
  },
  {
   "cell_type": "markdown",
   "metadata": {},
   "source": [
    "## Support Vector Machine classifier"
   ]
  },
  {
   "cell_type": "code",
   "execution_count": null,
   "metadata": {},
   "outputs": [],
   "source": [
    "svc2 = SVC(probability=True, C=1.0, degree=3, kernel='rbf')\n",
    "svc2.fit(X_train2, Y_train2)\n",
    "# wandb.sklearn.plot_learning_curve(svc2, X_train,  Y_train['salary-class'])\n",
    "\n",
    "svc2.score(X_test2, Y_test2)\n",
    "# y_pred = svc2.predict(X_test)\n",
    "# y_probas = svc2.predict_proba(X_test)"
   ]
  },
  {
   "cell_type": "markdown",
   "metadata": {},
   "source": [
    "## K Nearest Neighbors classifier"
   ]
  },
  {
   "cell_type": "code",
   "execution_count": null,
   "metadata": {},
   "outputs": [],
   "source": [
    "knn_classifier2 = KNeighborsClassifier(n_neighbors=20)\n",
    "knn_classifier2.fit(X_train2, Y_train2)\n",
    "# wandb.sklearn.plot_learning_curve(knn_classifier2, X_train, Y_train['salary-class'])\n",
    "\n",
    "knn_classifier2.score(X_test2, Y_test2)\n",
    "# y_pred = knn_classifier2.predict(X_test)\n",
    "# y_probas = knn_classifier2.predict_proba(X_test)"
   ]
  },
  {
   "cell_type": "markdown",
   "metadata": {},
   "source": [
    "## Neural Network classifier"
   ]
  },
  {
   "cell_type": "code",
   "execution_count": null,
   "metadata": {},
   "outputs": [],
   "source": [
    "nn_classifier2 = MLPClassifier(hidden_layer_sizes=(100),  alpha=0.001, activation='relu', random_state=1337)\n",
    "nn_classifier2.fit(X_train2, Y_train2)\n",
    "# wandb.sklearn.plot_learning_curve(nn_classifier2, X_train, Y_train['salary-class'])\n",
    "\n",
    "nn_classifier2.score(X_test2, Y_test2)\n",
    "# y_pred = nn_classifier2.predict(X_test)\n",
    "# y_probas = nn_classifier2.predict_proba(X_test)"
   ]
  },
  {
   "cell_type": "markdown",
   "metadata": {},
   "source": [
    "## Boosted Decision Trees classifier"
   ]
  },
  {
   "cell_type": "code",
   "execution_count": null,
   "metadata": {},
   "outputs": [],
   "source": [
    "# n_estimators=3, \n",
    "clf2 = xgb.XGBClassifier(n_estimators=3, max_depth=4, learning_rate=.1)\n",
    "clf2.fit(X_train2, Y_train2)#, callbacks=[wandb_callback()])\n",
    "clf2.score(X_test2, Y_test2)"
   ]
  }
 ],
 "metadata": {
  "kernelspec": {
   "display_name": "Python 3 (ipykernel)",
   "language": "python",
   "name": "python3"
  },
  "language_info": {
   "codemirror_mode": {
    "name": "ipython",
    "version": 3
   },
   "file_extension": ".py",
   "mimetype": "text/x-python",
   "name": "python",
   "nbconvert_exporter": "python",
   "pygments_lexer": "ipython3",
   "version": "3.9.5"
  }
 },
 "nbformat": 4,
 "nbformat_minor": 4
}
